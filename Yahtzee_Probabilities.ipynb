{
  "nbformat": 4,
  "nbformat_minor": 0,
  "metadata": {
    "colab": {
      "name": "Yahtzee Probabilities.ipynb",
      "provenance": []
    },
    "kernelspec": {
      "name": "python3",
      "display_name": "Python 3"
    },
    "language_info": {
      "name": "python"
    }
  },
  "cells": [
    {
      "cell_type": "code",
      "source": [
        "from tqdm import tqdm\n",
        "from tqdm.contrib.concurrent import process_map \n",
        "import numpy as np\n",
        "import random\n",
        "from prettytable import PrettyTable\n",
        "\n",
        "dice = [1, 2, 3, 4, 5, 6]   #my dice\n",
        "\n",
        "ID_dict={\"x_00\":1,\"x_20\":2,\"x_22\":3,\"x_32\":4,\"x_30\":5,\"x_40\":6,\"x_50\":7} #ID all the states with 1-7\n",
        "def common(x):\n",
        "    \"Function that determines which face value appears most\"\n",
        "    l=[x.count(1), x.count(2), x.count(3), x.count(4), x.count(5), x.count(6)]\n",
        "    A = np.argmax(l)+1\n",
        "    return A\n",
        "\n",
        "def State(l):\n",
        "    \"Function takes list l\"\n",
        "    \"return state of a roll\"\n",
        "    if max(l)==5:                #check if its AAAAA\n",
        "        state=\"x_50\"\n",
        "    elif max(l)==4:              #check if its AAAAB\n",
        "        state=\"x_40\"\n",
        "    elif max(l)==3:              #check if its AAABB or AAABC\n",
        "        new_l= l\n",
        "        # removing the largest element from temp list\n",
        "        new_l.remove(max(new_l))\n",
        "        if max(new_l)==2:        #check if its AAABB  \n",
        "            state=\"x_32\"\n",
        "        else:                    #else its AAABC   \n",
        "            state=\"x_30\"\n",
        "    elif max(l)==2:\n",
        "        new_l= l\n",
        "        # removing the largest element from temp list\n",
        "        new_l.remove(max(new_l)) \n",
        "        if max(new_l)==2:        #check if its AABBC\n",
        "            state=\"x_22\"\n",
        "        else:                    #else its AABCD\n",
        "            state=\"x_20\"\n",
        "    \n",
        "    \n",
        "    else:                        #else its ABCDE\n",
        "        state=\"x_00\"\n",
        "    return state    \n",
        "  \n",
        "def Re_Roll(state,A):\n",
        "        \"Function takes state of a list (state) and the most appearing number (A) \" \n",
        "        \"returns a list containing new state and and the same A\" \n",
        "        if state==\"x_50\":\n",
        "          x=[A,A,A,A,A]\n",
        "          l=[x.count(1), x.count(2), x.count(3), x.count(4), x.count(5), x.count(6)]\n",
        "          state=State(l)\n",
        "        elif state==\"x_40\": \n",
        "          x=[A,A,A,A]\n",
        "          x_ = random.choices(dice,k=1)\n",
        "          x.append(x_[0])\n",
        "          l=[x.count(1), x.count(2), x.count(3), x.count(4), x.count(5), x.count(6)]\n",
        "          state=State(l)   \n",
        "        elif state==\"x_30\":\n",
        "          x=[A,A,A]\n",
        "          x_ = random.choices(dice,k=2)\n",
        "          x.append(x_[0])\n",
        "          x.append(x_[1])\n",
        "          l=[x.count(1), x.count(2), x.count(3), x.count(4), x.count(5), x.count(6)]\n",
        "          state=State(l)\n",
        "        elif state==\"x_32\":\n",
        "          x=[A,A,A]\n",
        "          x_ = random.choices(dice,k=2)\n",
        "          x.append(x_[0])\n",
        "          x.append(x_[1])\n",
        "          l=[x.count(1), x.count(2), x.count(3), x.count(4), x.count(5), x.count(6)]\n",
        "          state=State(l)\n",
        "        elif state==\"x_22\":\n",
        "          x=[A,A]\n",
        "          x_ = random.choices(dice,k=3)\n",
        "          x.append(x_[0])\n",
        "          x.append(x_[1])\n",
        "          x.append(x_[2])\n",
        "          l=[x.count(1), x.count(2), x.count(3), x.count(4), x.count(5), x.count(6)]\n",
        "          state=State(l)\n",
        "        elif state==\"x_20\":\n",
        "          x=[A,A]\n",
        "          x_ = random.choices(dice,k=3)\n",
        "          x.append(x_[0])\n",
        "          x.append(x_[1])\n",
        "          x.append(x_[2])\n",
        "          l=[x.count(1), x.count(2), x.count(3), x.count(4), x.count(5), x.count(6)]\n",
        "          state=State(l)\n",
        "        else:\n",
        "          x= random.choices(dice,k=5)\n",
        "          l=[x.count(1), x.count(2), x.count(3), x.count(4), x.count(5), x.count(6)]\n",
        "          state=State(l)\n",
        "        return [state, A] \n",
        "for roll in range(3):          \n",
        "  def results(j):\n",
        "    \n",
        "      \"Returns the state ID of of the list i.e. x_00, x_20, x_22, x_32, x_30, x_40, x_50\"\n",
        "      x = random.choices(dice,k=5)\n",
        "      #count the number of 1s 2s 3s 4s 5s 6s and store in a list l\n",
        "      l=[x.count(1), x.count(2), x.count(3), x.count(4), x.count(5), x.count(6)]\n",
        "      state=State(l)\n",
        "      A=common(x) #determine which number appears most   \n",
        "      for r in range(roll):\n",
        "        R=Re_Roll(state, A)\n",
        "        state=R[0]\n",
        "        A=R[1]\n",
        "      return ID_dict[state]      #return the state ID\n",
        "\n",
        "\n",
        "  reps = int(1e6) # number of repetions of game\n",
        "  cores = 2 # number of cores to be used in parallel \n",
        "\n",
        "  # run the function results reps times (chunksize is how many executions are clustered together for one run on a single core)\n",
        "  res = process_map( results, range(reps), max_workers=cores, total=reps, chunksize=int(reps/1000), tqdm_class=tqdm)\n",
        "\n",
        "\n",
        "  # print how often we got which state\n",
        "  print(\"Roll number \",roll+1,\" probabilities.\")\n",
        "  print('[x_00, x_20, x_22, x_32, x_30, x_40, x_50]=', np.bincount(res)[1:] / reps, \"respectively.\" )\n",
        "  print(\"____________________________________________________________________________________________\")\n"
      ],
      "metadata": {
        "colab": {
          "base_uri": "https://localhost:8080/"
        },
        "id": "SFXZo1CQ3xle",
        "outputId": "87c1d191-9301-4dcf-b49f-9da718558bf2"
      },
      "execution_count": 49,
      "outputs": [
        {
          "output_type": "stream",
          "name": "stderr",
          "text": [
            "100%|██████████| 1000000/1000000 [00:14<00:00, 71267.84it/s]\n"
          ]
        },
        {
          "output_type": "stream",
          "name": "stdout",
          "text": [
            "Roll number  1  probabilities.\n",
            "[x_00, x_20, x_22, x_32, x_30, x_40, x_50]= [0.092947 0.462249 0.231824 0.038748 0.154059 0.019445 0.000728] respectively.\n",
            "____________________________________________________________________________________________\n"
          ]
        },
        {
          "output_type": "stream",
          "name": "stderr",
          "text": [
            "100%|██████████| 1000000/1000000 [00:21<00:00, 46600.24it/s]"
          ]
        },
        {
          "output_type": "stream",
          "name": "stdout",
          "text": [
            "Roll number  2  probabilities.\n",
            "[x_00, x_20, x_22, x_32, x_30, x_40, x_50]= [0.008558 0.234816 0.214649 0.094911 0.314396 0.120199 0.012471] respectively.\n",
            "____________________________________________________________________________________________\n"
          ]
        },
        {
          "output_type": "stream",
          "name": "stderr",
          "text": [
            "\n",
            "100%|██████████| 1000000/1000000 [00:28<00:00, 34908.71it/s]\n"
          ]
        },
        {
          "output_type": "stream",
          "name": "stdout",
          "text": [
            "Roll number  3  probabilities.\n",
            "[x_00, x_20, x_22, x_32, x_30, x_40, x_50]= [0.000812 0.129353 0.126692 0.098601 0.353642 0.244881 0.046019] respectively.\n",
            "____________________________________________________________________________________________\n"
          ]
        }
      ]
    }
  ]
}